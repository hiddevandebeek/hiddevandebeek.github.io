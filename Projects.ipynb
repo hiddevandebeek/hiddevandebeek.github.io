{
  "cells": [
    {
      "cell_type": "raw",
      "metadata": {},
      "source": [
        "---\n",
        "title: \"Projects\"\n",
        "about:\n",
        "  id: hero-heading\n",
        "  template: jolla\n",
        "---"
      ],
      "id": "9b707534"
    },
    {
      "cell_type": "markdown",
      "metadata": {},
      "source": [
        "::: {#hero-heading}\n",
        "# Bayesian Statistics\n",
        "In this project, the main goal was to develop a Gibbs sampler for a Bayesian linear regression model. By using two simulated data set the Gibbs sampler was tested and the results were compared. The Gibbs sampler was then applied to a real data set to identify the key factors that play a role in the university admittance process. The project was rewarded a 10.0/10.0 grade.\n",
        "\n",
        "\n",
        "```{Latex}\n",
        "$XX$\n",
        "\n",
        "```\n",
        "\n",
        "\n",
        "\n",
        ":::\n",
        "\n",
        "\n",
        ":::: {.columns}\n",
        "\n",
        "::: {.column width=\"50%\"}\n",
        "![](images/trace_plots.png)\n",
        "Figure 1. MCMC sampler of related dataset\n",
        "\n",
        ":::\n",
        "\n",
        "::: {.column width=\"50%\"}\n",
        "\n",
        "![](images/trace_plots-2.png)\n",
        "Figure 2. MCMC sampler of unrelated dataset\n",
        ":::\n",
        "\n",
        "::::\n"
      ],
      "id": "5a00af62"
    }
  ],
  "metadata": {
    "kernelspec": {
      "display_name": "Python 3",
      "language": "python",
      "name": "python3"
    }
  },
  "nbformat": 4,
  "nbformat_minor": 5
}